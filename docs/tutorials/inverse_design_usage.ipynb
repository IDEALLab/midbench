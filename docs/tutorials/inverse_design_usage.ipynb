{
 "cells": [
  {
   "cell_type": "markdown",
   "id": "2e657924-2aff-4e6b-8110-91343ff8abeb",
   "metadata": {
    "tags": []
   },
   "source": [
    "# API (midbench.envs)"
   ]
  },
  {
   "cell_type": "markdown",
   "id": "d3c2bb76-6b4a-4f7a-b0c9-2caff15a2bfb",
   "metadata": {},
   "source": [
    "## Code Examples"
   ]
  },
  {
   "cell_type": "markdown",
   "id": "0785f335-ee81-4417-a9d1-5802094b934b",
   "metadata": {
    "tags": []
   },
   "source": [
    "### **2D Airfoil**\n",
    "\n",
    "<!-- **SU2 Singularity Container**\n",
    "\n",
    "We perform the 2D airfoil simulation and optimization using [SU2](https://su2code.github.io/) CFD solver. For user's easy usage, we have pre-built the SU2 suite using a [singularity container](https://docs.sylabs.io/guides/3.5/user-guide/introduction.html) with the required environments set up. The ready-to-use SU2 singularity container can be pulled or downloaded from https://cloud.sylabs.io/library/junideallab/midbench/su2v7.3.1_conda3.9.12_gmsh. \n",
    "\n",
    "* Install Singularity. If you already have singularity installed on your device, please ignore this step. If not, please follow this 3-step quick installation guide (https://docs.sylabs.io/guides/3.5/user-guide/quick_start.html ) to install Singularity first. I’m using Singularity version 3.5.3. You should be able to run the SIF container with the same version or higher. \n",
    "\n",
    "* Download SU2 SIF container. Please download the SU2 SIF container from Sylabs using this link (https://cloud.sylabs.io/library/junideallab/midbench/su2v7.3.1_conda3.9.12_gmsh). \n",
    "\n",
    "\n",
    "* To run the midbench API code:\n",
    "    * Enter SU2 SIF container by typing the following command in your terminal: `singularity shell /path/to/your/downloaded/su2v7.3.1_conda3.9.12_gmsh`\n",
    "    * Open jupyter notebook or jupyter lab by typing command in your terminal: jupyter lab. In the MIDBenchmarkSuite directory, there is an iPython notebook “midbench_api.ipynb”. Please open the notebook in jupyter lab. \n",
    "    * Please run the API demo code in the notebook cell by cell to see if the simulation and optimization can run successfully on your SU2 SIF container.\n",
    "\n",
    "_**NOTE**_: The singuarity container also includes a 2D airfoil mesh generator `AirfoilGeometryConverter`. The generator will first convert the 2D coordinates of the airfoil curve points into mesh. The SU2 solver then takes the mesh for the follwoing CFD simulation and shape optimization. -->"
   ]
  },
  {
   "cell_type": "markdown",
   "id": "70098e29-1508-4e28-bab4-a5cb3002e788",
   "metadata": {},
   "source": [
    "#### Prediction (Inverse Design)"
   ]
  },
  {
   "cell_type": "code",
   "execution_count": null,
   "id": "071e9ea8-b237-43d8-9763-c50e475d195b",
   "metadata": {},
   "outputs": [],
   "source": [
    "import midbench\n",
    "from midbench.envs import make\n",
    "import torch\n",
    "import numpy as np\n",
    "from midbench.inverse.src.pred import cebgan_pred"
   ]
  },
  {
   "cell_type": "code",
   "execution_count": null,
   "id": "738ecdac-1898-414d-a18b-d1dc142ca846",
   "metadata": {},
   "outputs": [],
   "source": [
    "# Load input parameters (Mach number, Reynolds number, target lift coefficient)\n",
    "inp_paras = np.load('./midbench/inverse/data/inp_paras_test.npy')[0,:].reshape(-1,3)"
   ]
  },
  {
   "cell_type": "code",
   "execution_count": null,
   "id": "a7b62b05-0833-47bc-987e-939c82dab252",
   "metadata": {},
   "outputs": [],
   "source": [
    "# Predict optimal airfoil and angle of attack using CEBGAN inverse model\n",
    "airfoils, aoas = cebgan_pred(inp_paras)"
   ]
  },
  {
   "cell_type": "markdown",
   "id": "3c57b152-0488-4ee0-a0cc-cd83c68f7350",
   "metadata": {
    "tags": []
   },
   "source": [
    "#### Simulation"
   ]
  },
  {
   "cell_type": "code",
   "execution_count": null,
   "id": "d56c757c-7deb-45a4-9665-23ebb8c3e808",
   "metadata": {},
   "outputs": [],
   "source": [
    "# Direct to the Environment of 2D airfoil\n",
    "Env, Design, Condition = make(\"Airfoil2d-v0\")"
   ]
  },
  {
   "cell_type": "code",
   "execution_count": null,
   "id": "0164d926-647d-4774-b7b6-e730d94b137f",
   "metadata": {
    "tags": []
   },
   "outputs": [],
   "source": [
    "# Convert airfoil coordinates to 2D mesh\n",
    "designs = Design(air_coord_path = airfoils).meshgen() \n",
    "\n",
    "# Boundary condition setup for simulation\n",
    "conditions = Condition(**{'mach':inp_paras[0,0],'reynolds':inp_paras[0,1],'lift':inp_paras[0,2],'aoa':aoas[0,0]})\n",
    "\n",
    "# Target performances (e.g., lift and drag coefficients)\n",
    "performances = ['lift', 'drag']"
   ]
  },
  {
   "cell_type": "code",
   "execution_count": null,
   "id": "d700398e-59d0-47c5-b3d0-8a5bb8883dc5",
   "metadata": {},
   "outputs": [],
   "source": [
    "# Execute simulation\n",
    "lift, drag = Env.simulate(conditions, designs, performances, './tutorials/airfoil2d/results_simu')"
   ]
  },
  {
   "cell_type": "markdown",
   "id": "69dd24f9-b074-42b4-b255-c653b1a9f073",
   "metadata": {},
   "source": [
    "#### Optimization"
   ]
  },
  {
   "cell_type": "code",
   "execution_count": null,
   "id": "9e1aa428-41ea-4e67-b714-42d7a52931f1",
   "metadata": {},
   "outputs": [],
   "source": [
    "# Convert airfoil coordinates to 2D mesh\n",
    "designs = Design(air_coord_path = airfoils).meshgen()\n",
    "\n",
    "# Boundary condition setup for optimization\n",
    "conditions = Condition(**{'mach':inp_paras[0,0],'reynolds':inp_paras[0,1],'lift':inp_paras[0,2],'aoa':aoas[0,0]})\n",
    "\n",
    "# Objectives (e.g., drag coefficient, lift/drag efficiency, optimized airfoil coordinates)\n",
    "objectives = ['drag', 'ld_ratio', 'airfoil_opt']"
   ]
  },
  {
   "cell_type": "code",
   "execution_count": null,
   "id": "ff0a86da-15a7-4e16-a807-b496a01f7dc8",
   "metadata": {},
   "outputs": [],
   "source": [
    "# Execute Optimization\n",
    "drag, ld_ratio, airfoil_opt = Env.optimize(conditions, designs, objectives, './results_opt')"
   ]
  }
 ],
 "metadata": {
  "kernelspec": {
   "display_name": "Python 3 (ipykernel)",
   "language": "python",
   "name": "python3"
  },
  "language_info": {
   "codemirror_mode": {
    "name": "ipython",
    "version": 3
   },
   "file_extension": ".py",
   "mimetype": "text/x-python",
   "name": "python",
   "nbconvert_exporter": "python",
   "pygments_lexer": "ipython3",
   "version": "3.7.5"
  }
 },
 "nbformat": 4,
 "nbformat_minor": 5
}
