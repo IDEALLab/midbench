{
 "cells": [
  {
   "cell_type": "markdown",
   "id": "176a7dbd",
   "metadata": {
    "tags": []
   },
   "source": [
    "# API (midbench.envs)"
   ]
  },
  {
   "cell_type": "markdown",
   "id": "9a4023af",
   "metadata": {},
   "source": [
    "## Code Examples"
   ]
  },
  {
   "cell_type": "markdown",
   "id": "9263cd34",
   "metadata": {
    "tags": []
   },
   "source": [
    "### **2D Airfoil**\n",
    "\n",
    "<!-- **SU2 Singularity Container**\n",
    "\n",
    "We perform the 2D airfoil simulation and optimization using [SU2](https://su2code.github.io/) CFD solver. For user's easy usage, we have pre-built the SU2 suite using a [singularity container](https://docs.sylabs.io/guides/3.5/user-guide/introduction.html) with the required environments set up. The ready-to-use SU2 singularity container can be pulled or downloaded from https://cloud.sylabs.io/library/junideallab/midbench/su2v7.3.1_conda3.9.12_gmsh. \n",
    "\n",
    "* Install Singularity. If you already have singularity installed on your device, please ignore this step. If not, please follow this 3-step quick installation guide (https://docs.sylabs.io/guides/3.5/user-guide/quick_start.html ) to install Singularity first. I’m using Singularity version 3.5.3. You should be able to run the SIF container with the same version or higher. \n",
    "\n",
    "* Download SU2 SIF container. Please download the SU2 SIF container from Sylabs using this link (https://cloud.sylabs.io/library/junideallab/midbench/su2v7.3.1_conda3.9.12_gmsh). \n",
    "\n",
    "\n",
    "* To run the midbench API code:\n",
    "    * Enter SU2 SIF container by typing the following command in your terminal: `singularity shell /path/to/your/downloaded/su2v7.3.1_conda3.9.12_gmsh`\n",
    "    * Open jupyter notebook or jupyter lab by typing command in your terminal: jupyter lab. In the MIDBenchmarkSuite directory, there is an iPython notebook “midbench_api.ipynb”. Please open the notebook in jupyter lab. \n",
    "    * Please run the API demo code in the notebook cell by cell to see if the simulation and optimization can run successfully on your SU2 SIF container.\n",
    "\n",
    "_**NOTE**_: The singuarity container also includes a 2D airfoil mesh generator `AirfoilGeometryConverter`. The generator will first convert the 2D coordinates of the airfoil curve points into mesh. The SU2 solver then takes the mesh for the follwoing CFD simulation and shape optimization. -->"
   ]
  },
  {
   "cell_type": "markdown",
   "id": "313f189d",
   "metadata": {
    "tags": []
   },
   "source": [
    "#### Simulation"
   ]
  },
  {
   "cell_type": "code",
   "execution_count": null,
   "id": "5ffaf746",
   "metadata": {},
   "outputs": [],
   "source": [
    "from midbench.envs import make"
   ]
  },
  {
   "cell_type": "code",
   "execution_count": null,
   "id": "59ad99ae",
   "metadata": {},
   "outputs": [],
   "source": [
    "Env, Design, Condition = make(\"Airfoil2d-v0\")"
   ]
  },
  {
   "cell_type": "code",
   "execution_count": null,
   "id": "c2020064",
   "metadata": {
    "tags": []
   },
   "outputs": [],
   "source": [
    "designs = Design('./midbench/envs/airfoil/airfoils_pred_cbegan_example.npy').meshgen()\n",
    "conditions = Condition(**{'mach':0.7,'reynolds':7000000,'lift':0.350})\n",
    "performances = ['lift', 'drag']"
   ]
  },
  {
   "cell_type": "code",
   "execution_count": null,
   "id": "3a2c2a87",
   "metadata": {},
   "outputs": [],
   "source": [
    "lift, drag = Env.simulate(conditions, designs, performances, './midbench/envs/airfoil/results_simu')"
   ]
  },
  {
   "cell_type": "markdown",
   "id": "1d7e93a7",
   "metadata": {},
   "source": [
    "#### Optimization"
   ]
  },
  {
   "cell_type": "code",
   "execution_count": null,
   "id": "91328683",
   "metadata": {},
   "outputs": [],
   "source": [
    "designs = Design('./midbench/envs/airfoil/airfoils_pred_cbegan_example.npy')\n",
    "conditions = Condition(**{'mach':0.6,'reynolds':8000000,'lift':0.320})\n",
    "objectives = ['drag', 'ld_ratio', 'airfoil_opt']"
   ]
  },
  {
   "cell_type": "code",
   "execution_count": null,
   "id": "0d890489",
   "metadata": {},
   "outputs": [],
   "source": [
    "drag, ld_ratio, airfoil_opt = Env.optimize(conditions, designs, objectives, './midbench/envs/airfoil/results_opt')"
   ]
  },
  {
   "cell_type": "markdown",
   "id": "03e6e647",
   "metadata": {},
   "source": [
    "### **2D Heat Conduction**"
   ]
  },
  {
   "cell_type": "markdown",
   "id": "0a8202ad",
   "metadata": {
    "tags": []
   },
   "source": [
    "#### Optimization"
   ]
  },
  {
   "cell_type": "code",
   "execution_count": null,
   "id": "4b61c0f7",
   "metadata": {},
   "outputs": [],
   "source": [
    "from midbench.envs import make"
   ]
  },
  {
   "cell_type": "code",
   "execution_count": null,
   "id": "570fd661",
   "metadata": {},
   "outputs": [],
   "source": [
    "Env, Design, Condition = make(\"HeatConduction2d-v0\")"
   ]
  },
  {
   "cell_type": "code",
   "execution_count": null,
   "id": "270ed27f",
   "metadata": {},
   "outputs": [],
   "source": [
    "conditions = Condition(**{'volume':0.4,'length':0.5,'resolution':50})\n",
    "designs = Design(**{'volume':0.4,'resolution':50}).output()\n",
    "objectives = ['compliance']"
   ]
  },
  {
   "cell_type": "code",
   "execution_count": null,
   "id": "5476f97b",
   "metadata": {
    "tags": []
   },
   "outputs": [],
   "source": [
    "compliance=Env.optimize(conditions, designs, objectives)"
   ]
  }
 ],
 "metadata": {
  "kernelspec": {
   "display_name": "Python 3 (ipykernel)",
   "language": "python",
   "name": "python3"
  },
  "language_info": {
   "codemirror_mode": {
    "name": "ipython",
    "version": 3
   },
   "file_extension": ".py",
   "mimetype": "text/x-python",
   "name": "python",
   "nbconvert_exporter": "python",
   "pygments_lexer": "ipython3",
   "version": "3.7.5"
  }
 },
 "nbformat": 4,
 "nbformat_minor": 5
}
