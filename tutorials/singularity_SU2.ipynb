{
  "nbformat": 4,
  "nbformat_minor": 0,
  "metadata": {
    "colab": {
      "name": "singularity_SU2.ipynb",
      "provenance": []
    },
    "kernelspec": {
      "name": "python3",
      "display_name": "Python 3"
    },
    "language_info": {
      "name": "python"
    }
  },
  "cells": [
    {
      "cell_type": "code",
      "execution_count": null,
      "metadata": {
        "id": "l4zjtO3A_lHy"
      },
      "outputs": [],
      "source": [
        "# Check Ubuntu Release\n",
        "!lsb_release -a"
      ]
    },
    {
      "cell_type": "code",
      "source": [
        "# Install System Dependencies\n",
        "!sudo apt-get update && sudo apt-get install -y \\\n",
        "    build-essential \\\n",
        "    libssl-dev \\\n",
        "    uuid-dev \\\n",
        "    libgpgme11-dev \\\n",
        "    squashfs-tools \\\n",
        "    libseccomp-dev \\\n",
        "    wget \\\n",
        "    pkg-config \\\n",
        "    git \\\n",
        "    cryptsetup"
      ],
      "metadata": {
        "id": "ZEhk6zm0_1gi"
      },
      "execution_count": null,
      "outputs": []
    },
    {
      "cell_type": "code",
      "source": [
        "# Install Go\n",
        "%%bash\n",
        "wget https://go.dev/dl/go1.18.4.linux-amd64.tar.gz && \\\n",
        "sudo rm -rf /usr/local/go && tar -C /usr/local -xzf go1.18.4.linux-amd64.tar.gz"
      ],
      "metadata": {
        "id": "wA-5rq4m_3uE"
      },
      "execution_count": null,
      "outputs": []
    },
    {
      "cell_type": "code",
      "source": [
        "# Download Singularity\n",
        "%%bash\n",
        "export VERSION=3.5.3 && # adjust this as necessary \\\n",
        "  wget https://github.com/singularityware/singularity/releases/download/v${VERSION}/singularity-${VERSION}.tar.gz && \\\n",
        "  tar -xzf singularity-${VERSION}.tar.gz && \\\n",
        "  cd singularity"
      ],
      "metadata": {
        "id": "8_xaRLAwAx_Q"
      },
      "execution_count": null,
      "outputs": []
    },
    {
      "cell_type": "code",
      "source": [
        "# Compile Singularity Source Code\n",
        "%%shell\n",
        "export PATH=$PATH:/usr/local/go/bin && \\\n",
        "source /etc/profile && \\\n",
        "go version && \\\n",
        "cd singularity && \\\n",
        "./mconfig && \\\n",
        "    make -C builddir && \\\n",
        "    sudo make -C builddir install"
      ],
      "metadata": {
        "id": "YADNUE31AzN9"
      },
      "execution_count": null,
      "outputs": []
    },
    {
      "cell_type": "code",
      "source": [
        "# Verify Singularity Installation\n",
        "!singularity version"
      ],
      "metadata": {
        "id": "kIf_qIEfAzj_"
      },
      "execution_count": null,
      "outputs": []
    },
    {
      "cell_type": "code",
      "source": [
        "# Pull SU2 Singularity Container\n",
        "!singularity pull --arch amd64 library://junideallab/midbench/su2v7.3.1_conda3.9.12_gmsh:latest"
      ],
      "metadata": {
        "id": "hVBiZbEMBoz3"
      },
      "execution_count": null,
      "outputs": []
    },
    {
      "cell_type": "code",
      "source": [
        "# Clone or Download midbench code\n",
        "!git clone https://github.com/IDEALLab/midbench.git"
      ],
      "metadata": {
        "id": "c76LGOieKFjb"
      },
      "execution_count": null,
      "outputs": []
    },
    {
      "cell_type": "code",
      "source": [
        "# Create Python Script for 2D Aifoil Simulation Demo Implementation\n",
        "%%writefile midbench/airfoil2d_simu.py\n",
        "from midbench.envs import make \n",
        "Env, Design, Condition = make(\"Airfoil2d-v0\")\n",
        "\n",
        "designs = Design('./midbench/envs/airfoil/airfoils_pred_cbegan_example.npy').meshgen() \n",
        "conditions = Condition(**{'mach':0.7,'reynolds':7000000,'lift':0.350}) \n",
        "performances = ['lift', 'drag'] \n",
        "\n",
        "lift, drag = Env.simulate(conditions, designs, performances, './midbench/envs/airfoil/results_simu') \n",
        "print(lift, drag)"
      ],
      "metadata": {
        "id": "GdSy3eEJ8dH8"
      },
      "execution_count": null,
      "outputs": []
    },
    {
      "cell_type": "code",
      "source": [
        "# Create Python Script for 2D Aifoil Optimization Demo Implementation\n",
        "%%writefile midbench/airfoil2d_opt.py\n",
        "from midbench.envs import make \n",
        "Env, Design, Condition = make(\"Airfoil2d-v0\")\n",
        "\n",
        "designs = Design('./midbench/envs/airfoil/airfoils_pred_cbegan_example.npy')\n",
        "conditions = Condition(**{'mach':0.6,'reynolds':8000000,'lift':0.320})\n",
        "objectives = ['drag', 'ld_ratio', 'airfoil_opt']\n",
        "\n",
        "drag, ld_ratio, airfoil_opt = Env.optimize(conditions, designs, objectives, './midbench/envs/airfoil/results_opt')\n",
        "print(drag, ld_ratio, airfoil_opt)"
      ],
      "metadata": {
        "id": "Ho53_P2Ee0lK"
      },
      "execution_count": null,
      "outputs": []
    },
    {
      "cell_type": "code",
      "source": [
        "# Execute Simualtion Script using SU2 Singularity Container\n",
        "%%bash\n",
        "cd midbench/\n",
        "singularity exec --userns ../su2v7.3.1_conda3.9.12_gmsh_latest.sif bash -c \"python airfoil2d_simu.py\""
      ],
      "metadata": {
        "id": "hOToHJPgAayx"
      },
      "execution_count": null,
      "outputs": []
    },
    {
      "cell_type": "code",
      "source": [
        "# Execute Optimization Script using SU2 Singularity Container\n",
        "%%bash\n",
        "cd midbench/\n",
        "singularity exec --userns ../su2v7.3.1_conda3.9.12_gmsh_latest.sif bash -c \"python airfoil2d_opt.py\""
      ],
      "metadata": {
        "id": "nN1PYy7fj1V-"
      },
      "execution_count": null,
      "outputs": []
    }
  ]
}