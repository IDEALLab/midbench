{
 "cells": [
  {
   "cell_type": "markdown",
   "metadata": {},
   "source": [
    "## MIDBench API Demo Code for Windows Users"
   ]
  },
  {
   "cell_type": "code",
   "execution_count": 1,
   "metadata": {
    "colab": {
     "base_uri": "https://localhost:8080/"
    },
    "id": "l4zjtO3A_lHy",
    "outputId": "b2d219cb-009d-444f-bd72-87b4fd1ba27f"
   },
   "outputs": [
    {
     "name": "stdout",
     "output_type": "stream",
     "text": [
      "No LSB modules are available.\n",
      "Distributor ID:\tUbuntu\n",
      "Description:\tUbuntu 18.04.5 LTS\n",
      "Release:\t18.04\n",
      "Codename:\tbionic\n"
     ]
    }
   ],
   "source": [
    "# Check Ubuntu Release\n",
    "!lsb_release -a"
   ]
  },
  {
   "cell_type": "code",
   "execution_count": null,
   "metadata": {
    "id": "ZEhk6zm0_1gi"
   },
   "outputs": [],
   "source": [
    "# Install System Dependencies\n",
    "!sudo apt-get update && sudo apt-get install -y \\\n",
    "    build-essential \\\n",
    "    libssl-dev \\\n",
    "    uuid-dev \\\n",
    "    libgpgme11-dev \\\n",
    "    squashfs-tools \\\n",
    "    libseccomp-dev \\\n",
    "    wget \\\n",
    "    pkg-config \\\n",
    "    git \\\n",
    "    cryptsetup"
   ]
  },
  {
   "cell_type": "code",
   "execution_count": null,
   "metadata": {
    "id": "wA-5rq4m_3uE"
   },
   "outputs": [],
   "source": [
    "# Install Go\n",
    "%%bash\n",
    "wget https://go.dev/dl/go1.18.4.linux-amd64.tar.gz && \\\n",
    "sudo rm -rf /usr/local/go && tar -C /usr/local -xzf go1.18.4.linux-amd64.tar.gz"
   ]
  },
  {
   "cell_type": "code",
   "execution_count": null,
   "metadata": {
    "id": "8_xaRLAwAx_Q"
   },
   "outputs": [],
   "source": [
    "# Download Singularity\n",
    "%%bash\n",
    "export VERSION=3.5.3 && # adjust this as necessary \\\n",
    "  wget https://github.com/singularityware/singularity/releases/download/v${VERSION}/singularity-${VERSION}.tar.gz && \\\n",
    "  tar -xzf singularity-${VERSION}.tar.gz && \\\n",
    "  cd singularity"
   ]
  },
  {
   "cell_type": "code",
   "execution_count": null,
   "metadata": {
    "id": "YADNUE31AzN9"
   },
   "outputs": [],
   "source": [
    "# Compile Singularity Source Code\n",
    "%%shell\n",
    "export PATH=$PATH:/usr/local/go/bin && \\\n",
    "source /etc/profile && \\\n",
    "go version && \\\n",
    "cd singularity && \\\n",
    "./mconfig && \\\n",
    "    make -C builddir && \\\n",
    "    sudo make -C builddir install"
   ]
  },
  {
   "cell_type": "code",
   "execution_count": null,
   "metadata": {
    "id": "kIf_qIEfAzj_"
   },
   "outputs": [],
   "source": [
    "# Verify Singularity Installation\n",
    "!singularity version"
   ]
  },
  {
   "cell_type": "code",
   "execution_count": null,
   "metadata": {
    "id": "hVBiZbEMBoz3"
   },
   "outputs": [],
   "source": [
    "# Pull SU2 Singularity Container\n",
    "!singularity pull --arch amd64 library://junideallab/midbench/su2v7.3.1_conda3.9.12_gmsh:latest"
   ]
  },
  {
   "cell_type": "code",
   "execution_count": null,
   "metadata": {
    "id": "ZbXbVWM-Bpcm"
   },
   "outputs": [],
   "source": [
    "# Download and Unzip MIDBenchmarkSuite code\n",
    "!unzip MIDBenchmarkSuite.zip"
   ]
  },
  {
   "cell_type": "code",
   "execution_count": null,
   "metadata": {
    "id": "GdSy3eEJ8dH8"
   },
   "outputs": [],
   "source": [
    "# Create Python Script for 2D Aifoil Simulation Demo Implementation\n",
    "%%writefile MIDBenchmarkSuite/airfoil2d_simu.py\n",
    "from midbench.envs import make \n",
    "Env, Design, Condition = make(\"Airfoil2d-v0\")\n",
    "\n",
    "designs = Design('./midbench/envs/airfoil/airfoils_pred_cbegan_example.npy').meshgen() \n",
    "conditions = Condition(**{'mach':0.7,'reynolds':7000000,'lift':0.350}) \n",
    "performances = ['lift', 'drag'] \n",
    "\n",
    "lift, drag = Env.simulate(conditions, designs, performances, './midbench/envs/airfoil/results_simu') \n",
    "print(lift, drag)"
   ]
  },
  {
   "cell_type": "code",
   "execution_count": null,
   "metadata": {
    "id": "Ho53_P2Ee0lK"
   },
   "outputs": [],
   "source": [
    "# Create Python Script for 2D Aifoil Optimization Demo Implementation\n",
    "%%writefile MIDBenchmarkSuite/airfoil2d_opt.py\n",
    "from midbench.envs import make \n",
    "Env, Design, Condition = make(\"Airfoil2d-v0\")\n",
    "\n",
    "designs = Design('./midbench/envs/airfoil/airfoils_pred_cbegan_example.npy')\n",
    "conditions = Condition(**{'mach':0.6,'reynolds':8000000,'lift':0.320})\n",
    "objectives = ['drag', 'ld_ratio', 'airfoil_opt']\n",
    "\n",
    "drag, ld_ratio, airfoil_opt = Env.optimize(conditions, designs, objectives, './midbench/envs/airfoil/results_opt')\n",
    "print(drag, ld_ratio, airfoil_opt)"
   ]
  },
  {
   "cell_type": "code",
   "execution_count": null,
   "metadata": {
    "id": "hOToHJPgAayx"
   },
   "outputs": [],
   "source": [
    "# Execute Simualtion Script using SU2 Singularity Container\n",
    "%%bash\n",
    "cd MIDBenchmarkSuite/\n",
    "singularity exec --userns ../su2v7.3.1_conda3.9.12_gmsh_latest.sif bash -c \"python airfoil2d_simu.py\""
   ]
  },
  {
   "cell_type": "code",
   "execution_count": null,
   "metadata": {
    "id": "nN1PYy7fj1V-"
   },
   "outputs": [],
   "source": [
    "# Execute Optimization Script using SU2 Singularity Container\n",
    "%%bash\n",
    "cd MIDBenchmarkSuite/\n",
    "singularity exec --userns ../su2v7.3.1_conda3.9.12_gmsh_latest.sif bash -c \"python airfoil2d_opt.py\""
   ]
  }
 ],
 "metadata": {
  "colab": {
   "name": "singularity_SU2.ipynb",
   "provenance": []
  },
  "kernelspec": {
   "display_name": "Python 3 (ipykernel)",
   "language": "python",
   "name": "python3"
  },
  "language_info": {
   "codemirror_mode": {
    "name": "ipython",
    "version": 3
   },
   "file_extension": ".py",
   "mimetype": "text/x-python",
   "name": "python",
   "nbconvert_exporter": "python",
   "pygments_lexer": "ipython3",
   "version": "3.7.5"
  }
 },
 "nbformat": 4,
 "nbformat_minor": 4
}
