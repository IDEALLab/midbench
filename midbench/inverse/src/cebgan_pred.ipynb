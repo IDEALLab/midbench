{
 "cells": [
  {
   "cell_type": "code",
   "execution_count": 1,
   "id": "78a3de3f-3960-4a6a-a15e-ff6a7247ad9a",
   "metadata": {},
   "outputs": [
    {
     "name": "stderr",
     "output_type": "stream",
     "text": [
      "/home/jun/anaconda3/envs/mid/lib/python3.9/site-packages/scipy/__init__.py:146: UserWarning: A NumPy version >=1.16.5 and <1.23.0 is required for this version of SciPy (detected version 1.23.1\n",
      "  warnings.warn(f\"A NumPy version >={np_minversion} and <{np_maxversion}\"\n"
     ]
    }
   ],
   "source": [
    "import torch\n",
    "import numpy as np\n",
    "from pred import cebgan_pred"
   ]
  },
  {
   "cell_type": "code",
   "execution_count": 2,
   "id": "60429ad2-6b92-495d-a0c9-019741458f5e",
   "metadata": {},
   "outputs": [],
   "source": [
    "inp_paras = np.load('../data/inp_paras_test.npy')"
   ]
  },
  {
   "cell_type": "code",
   "execution_count": 3,
   "id": "9ecf558b-39bd-4058-9b70-ef316008bc26",
   "metadata": {},
   "outputs": [],
   "source": [
    "airfoils, aoas = cebgan_pred(inp_paras)"
   ]
  },
  {
   "cell_type": "code",
   "execution_count": null,
   "id": "5b50ce4e-6bae-4ddf-942c-26a3838a2607",
   "metadata": {},
   "outputs": [],
   "source": [
    "airfoils.shape"
   ]
  },
  {
   "cell_type": "code",
   "execution_count": null,
   "id": "c7d9a864-193d-40a2-82e7-5f4acfbd0fa1",
   "metadata": {},
   "outputs": [],
   "source": [
    "aoas.shape"
   ]
  }
 ],
 "metadata": {
  "kernelspec": {
   "display_name": "Python 3 (ipykernel)",
   "language": "python",
   "name": "python3"
  },
  "language_info": {
   "codemirror_mode": {
    "name": "ipython",
    "version": 3
   },
   "file_extension": ".py",
   "mimetype": "text/x-python",
   "name": "python",
   "nbconvert_exporter": "python",
   "pygments_lexer": "ipython3",
   "version": "3.9.12"
  }
 },
 "nbformat": 4,
 "nbformat_minor": 5
}
